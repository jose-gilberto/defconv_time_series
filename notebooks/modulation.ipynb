{
 "cells": [
  {
   "cell_type": "code",
   "execution_count": 1,
   "metadata": {},
   "outputs": [],
   "source": [
    "import sys\n",
    "sys.path.append('../')"
   ]
  },
  {
   "cell_type": "code",
   "execution_count": 2,
   "metadata": {},
   "outputs": [],
   "source": [
    "from src.models import DefConvNet, DeformableFCN\n",
    "from src.utils import load_data, to_torch_dataset, to_torch_loader\n",
    "\n",
    "import warnings\n",
    "warnings.filterwarnings('ignore')\n",
    "\n",
    "from lightning.pytorch import seed_everything\n",
    "from lightning.pytorch import Trainer\n",
    "from lightning.pytorch.callbacks import ModelCheckpoint\n",
    "from lightning.pytorch.loggers import CSVLogger\n",
    "\n",
    "import numpy as np\n",
    "import pandas as pd\n",
    "import time"
   ]
  },
  {
   "cell_type": "code",
   "execution_count": 3,
   "metadata": {},
   "outputs": [
    {
     "name": "stderr",
     "output_type": "stream",
     "text": [
      "Seed set to 42\n"
     ]
    },
    {
     "data": {
      "text/plain": [
       "42"
      ]
     },
     "execution_count": 3,
     "metadata": {},
     "output_type": "execute_result"
    }
   ],
   "source": [
    "# Ensure reproducibility\n",
    "seed_everything(42, workers=True)"
   ]
  },
  {
   "cell_type": "code",
   "execution_count": 4,
   "metadata": {},
   "outputs": [
    {
     "name": "stderr",
     "output_type": "stream",
     "text": [
      "GPU available: True (cuda), used: True\n",
      "TPU available: False, using: 0 TPU cores\n",
      "IPU available: False, using: 0 IPUs\n",
      "HPU available: False, using: 0 HPUs\n"
     ]
    },
    {
     "name": "stdout",
     "output_type": "stream",
     "text": [
      "Loading dataset ArrowHead...\n",
      "Converting the dataset to torch.DataLoader...\n"
     ]
    },
    {
     "name": "stderr",
     "output_type": "stream",
     "text": [
      "You are using a CUDA device ('NVIDIA GeForce RTX 3060') that has Tensor Cores. To properly utilize them, you should set `torch.set_float32_matmul_precision('medium' | 'high')` which will trade-off precision for performance. For more details, read https://pytorch.org/docs/stable/generated/torch.set_float32_matmul_precision.html#torch.set_float32_matmul_precision\n",
      "LOCAL_RANK: 0 - CUDA_VISIBLE_DEVICES: [0]\n",
      "\n",
      "  | Name        | Type             | Params\n",
      "-------------------------------------------------\n",
      "0 | conv_layers | Sequential       | 424 K \n",
      "1 | linear      | Linear           | 387   \n",
      "2 | criteria    | CrossEntropyLoss | 0     \n",
      "-------------------------------------------------\n",
      "424 K     Trainable params\n",
      "0         Non-trainable params\n",
      "424 K     Total params\n",
      "1.699     Total estimated model params size (MB)\n"
     ]
    },
    {
     "data": {
      "application/vnd.jupyter.widget-view+json": {
       "model_id": "2b37ffee411a459595d459514d65464a",
       "version_major": 2,
       "version_minor": 0
      },
      "text/plain": [
       "Training: |          | 0/? [00:00<?, ?it/s]"
      ]
     },
     "metadata": {},
     "output_type": "display_data"
    },
    {
     "name": "stderr",
     "output_type": "stream",
     "text": [
      "`Trainer.fit` stopped: `max_epochs=1000` reached.\n",
      "Restoring states from the checkpoint path at /home/gilberto/models/classification/univariate/deffcn-ArrowHead-0-v57.ckpt\n",
      "LOCAL_RANK: 0 - CUDA_VISIBLE_DEVICES: [0]\n",
      "Loaded model weights from the checkpoint at /home/gilberto/models/classification/univariate/deffcn-ArrowHead-0-v57.ckpt\n"
     ]
    },
    {
     "data": {
      "application/vnd.jupyter.widget-view+json": {
       "model_id": "9ce6693bf29d45b5a2e039a053eff8ed",
       "version_major": 2,
       "version_minor": 0
      },
      "text/plain": [
       "Testing: |          | 0/? [00:00<?, ?it/s]"
      ]
     },
     "metadata": {},
     "output_type": "display_data"
    },
    {
     "name": "stderr",
     "output_type": "stream",
     "text": [
      "GPU available: True (cuda), used: True\n",
      "TPU available: False, using: 0 TPU cores\n",
      "IPU available: False, using: 0 IPUs\n",
      "HPU available: False, using: 0 HPUs\n",
      "LOCAL_RANK: 0 - CUDA_VISIBLE_DEVICES: [0]\n",
      "\n",
      "  | Name        | Type             | Params\n",
      "-------------------------------------------------\n",
      "0 | conv_layers | Sequential       | 424 K \n",
      "1 | linear      | Linear           | 387   \n",
      "2 | criteria    | CrossEntropyLoss | 0     \n",
      "-------------------------------------------------\n",
      "424 K     Trainable params\n",
      "0         Non-trainable params\n",
      "424 K     Total params\n",
      "1.699     Total estimated model params size (MB)\n"
     ]
    },
    {
     "name": "stdout",
     "output_type": "stream",
     "text": [
      "────────────────────────────────────────────────────────────────────────────────────────────────────────────────────────\n",
      "       Test metric             DataLoader 0\n",
      "────────────────────────────────────────────────────────────────────────────────────────────────────────────────────────\n",
      "           acc              0.8514285683631897\n",
      "           f1                0.510112464427948\n",
      "        precision            0.538539707660675\n",
      "         recall             0.4891890287399292\n",
      "────────────────────────────────────────────────────────────────────────────────────────────────────────────────────────\n"
     ]
    },
    {
     "data": {
      "application/vnd.jupyter.widget-view+json": {
       "model_id": "4d9bedb22c6f4db4971f3dd995bb45e1",
       "version_major": 2,
       "version_minor": 0
      },
      "text/plain": [
       "Training: |          | 0/? [00:00<?, ?it/s]"
      ]
     },
     "metadata": {},
     "output_type": "display_data"
    },
    {
     "name": "stderr",
     "output_type": "stream",
     "text": [
      "`Trainer.fit` stopped: `max_epochs=1000` reached.\n",
      "Restoring states from the checkpoint path at /home/gilberto/models/classification/univariate/deffcn-ArrowHead-1-v1.ckpt\n",
      "LOCAL_RANK: 0 - CUDA_VISIBLE_DEVICES: [0]\n",
      "Loaded model weights from the checkpoint at /home/gilberto/models/classification/univariate/deffcn-ArrowHead-1-v1.ckpt\n"
     ]
    },
    {
     "data": {
      "application/vnd.jupyter.widget-view+json": {
       "model_id": "187932d2417c42c88aa50823c67f632d",
       "version_major": 2,
       "version_minor": 0
      },
      "text/plain": [
       "Testing: |          | 0/? [00:00<?, ?it/s]"
      ]
     },
     "metadata": {},
     "output_type": "display_data"
    },
    {
     "name": "stderr",
     "output_type": "stream",
     "text": [
      "GPU available: True (cuda), used: True\n",
      "TPU available: False, using: 0 TPU cores\n",
      "IPU available: False, using: 0 IPUs\n",
      "HPU available: False, using: 0 HPUs\n",
      "LOCAL_RANK: 0 - CUDA_VISIBLE_DEVICES: [0]\n",
      "\n",
      "  | Name        | Type             | Params\n",
      "-------------------------------------------------\n",
      "0 | conv_layers | Sequential       | 424 K \n",
      "1 | linear      | Linear           | 387   \n",
      "2 | criteria    | CrossEntropyLoss | 0     \n",
      "-------------------------------------------------\n",
      "424 K     Trainable params\n",
      "0         Non-trainable params\n",
      "424 K     Total params\n",
      "1.699     Total estimated model params size (MB)\n"
     ]
    },
    {
     "name": "stdout",
     "output_type": "stream",
     "text": [
      "────────────────────────────────────────────────────────────────────────────────────────────────────────────────────────\n",
      "       Test metric             DataLoader 0\n",
      "────────────────────────────────────────────────────────────────────────────────────────────────────────────────────────\n",
      "           acc               0.845714271068573\n",
      "           f1               0.5085128545761108\n",
      "        precision            0.538539707660675\n",
      "         recall             0.48728427290916443\n",
      "────────────────────────────────────────────────────────────────────────────────────────────────────────────────────────\n"
     ]
    },
    {
     "data": {
      "application/vnd.jupyter.widget-view+json": {
       "model_id": "ac3c7120065948d49e1d62f206d20b82",
       "version_major": 2,
       "version_minor": 0
      },
      "text/plain": [
       "Training: |          | 0/? [00:00<?, ?it/s]"
      ]
     },
     "metadata": {},
     "output_type": "display_data"
    },
    {
     "name": "stderr",
     "output_type": "stream",
     "text": [
      "`Trainer.fit` stopped: `max_epochs=1000` reached.\n",
      "Restoring states from the checkpoint path at /home/gilberto/models/classification/univariate/deffcn-ArrowHead-2-v1.ckpt\n",
      "LOCAL_RANK: 0 - CUDA_VISIBLE_DEVICES: [0]\n",
      "Loaded model weights from the checkpoint at /home/gilberto/models/classification/univariate/deffcn-ArrowHead-2-v1.ckpt\n"
     ]
    },
    {
     "data": {
      "application/vnd.jupyter.widget-view+json": {
       "model_id": "fbe9ef2037c14c719ea205243901cd02",
       "version_major": 2,
       "version_minor": 0
      },
      "text/plain": [
       "Testing: |          | 0/? [00:00<?, ?it/s]"
      ]
     },
     "metadata": {},
     "output_type": "display_data"
    },
    {
     "name": "stderr",
     "output_type": "stream",
     "text": [
      "GPU available: True (cuda), used: True\n",
      "TPU available: False, using: 0 TPU cores\n",
      "IPU available: False, using: 0 IPUs\n",
      "HPU available: False, using: 0 HPUs\n",
      "LOCAL_RANK: 0 - CUDA_VISIBLE_DEVICES: [0]\n",
      "\n",
      "  | Name        | Type             | Params\n",
      "-------------------------------------------------\n",
      "0 | conv_layers | Sequential       | 424 K \n",
      "1 | linear      | Linear           | 387   \n",
      "2 | criteria    | CrossEntropyLoss | 0     \n",
      "-------------------------------------------------\n",
      "424 K     Trainable params\n",
      "0         Non-trainable params\n",
      "424 K     Total params\n",
      "1.699     Total estimated model params size (MB)\n"
     ]
    },
    {
     "name": "stdout",
     "output_type": "stream",
     "text": [
      "────────────────────────────────────────────────────────────────────────────────────────────────────────────────────────\n",
      "       Test metric             DataLoader 0\n",
      "────────────────────────────────────────────────────────────────────────────────────────────────────────────────────────\n",
      "           acc              0.8857142925262451\n",
      "           f1               0.5427230596542358\n",
      "        precision           0.5649523735046387\n",
      "         recall             0.5240461230278015\n",
      "────────────────────────────────────────────────────────────────────────────────────────────────────────────────────────\n"
     ]
    },
    {
     "data": {
      "application/vnd.jupyter.widget-view+json": {
       "model_id": "163902abbbff47b78815738bd76c9823",
       "version_major": 2,
       "version_minor": 0
      },
      "text/plain": [
       "Training: |          | 0/? [00:00<?, ?it/s]"
      ]
     },
     "metadata": {},
     "output_type": "display_data"
    },
    {
     "name": "stderr",
     "output_type": "stream",
     "text": [
      "`Trainer.fit` stopped: `max_epochs=1000` reached.\n",
      "Restoring states from the checkpoint path at /home/gilberto/models/classification/univariate/deffcn-ArrowHead-3-v1.ckpt\n",
      "LOCAL_RANK: 0 - CUDA_VISIBLE_DEVICES: [0]\n",
      "Loaded model weights from the checkpoint at /home/gilberto/models/classification/univariate/deffcn-ArrowHead-3-v1.ckpt\n"
     ]
    },
    {
     "data": {
      "application/vnd.jupyter.widget-view+json": {
       "model_id": "8b1c7b14ca3f45b59a5f77812456cc46",
       "version_major": 2,
       "version_minor": 0
      },
      "text/plain": [
       "Testing: |          | 0/? [00:00<?, ?it/s]"
      ]
     },
     "metadata": {},
     "output_type": "display_data"
    },
    {
     "name": "stderr",
     "output_type": "stream",
     "text": [
      "GPU available: True (cuda), used: True\n",
      "TPU available: False, using: 0 TPU cores\n",
      "IPU available: False, using: 0 IPUs\n",
      "HPU available: False, using: 0 HPUs\n",
      "LOCAL_RANK: 0 - CUDA_VISIBLE_DEVICES: [0]\n",
      "\n",
      "  | Name        | Type             | Params\n",
      "-------------------------------------------------\n",
      "0 | conv_layers | Sequential       | 424 K \n",
      "1 | linear      | Linear           | 387   \n",
      "2 | criteria    | CrossEntropyLoss | 0     \n",
      "-------------------------------------------------\n",
      "424 K     Trainable params\n",
      "0         Non-trainable params\n",
      "424 K     Total params\n",
      "1.699     Total estimated model params size (MB)\n"
     ]
    },
    {
     "name": "stdout",
     "output_type": "stream",
     "text": [
      "────────────────────────────────────────────────────────────────────────────────────────────────────────────────────────\n",
      "       Test metric             DataLoader 0\n",
      "────────────────────────────────────────────────────────────────────────────────────────────────────────────────────────\n",
      "           acc              0.8342857360839844\n",
      "           f1               0.5183756947517395\n",
      "        precision           0.5537777543067932\n",
      "         recall             0.4939509332180023\n",
      "────────────────────────────────────────────────────────────────────────────────────────────────────────────────────────\n"
     ]
    },
    {
     "data": {
      "application/vnd.jupyter.widget-view+json": {
       "model_id": "b2d62c55103947ea900396f657478399",
       "version_major": 2,
       "version_minor": 0
      },
      "text/plain": [
       "Training: |          | 0/? [00:00<?, ?it/s]"
      ]
     },
     "metadata": {},
     "output_type": "display_data"
    },
    {
     "name": "stderr",
     "output_type": "stream",
     "text": [
      "`Trainer.fit` stopped: `max_epochs=1000` reached.\n",
      "Restoring states from the checkpoint path at /home/gilberto/models/classification/univariate/deffcn-ArrowHead-4-v1.ckpt\n",
      "LOCAL_RANK: 0 - CUDA_VISIBLE_DEVICES: [0]\n",
      "Loaded model weights from the checkpoint at /home/gilberto/models/classification/univariate/deffcn-ArrowHead-4-v1.ckpt\n"
     ]
    },
    {
     "data": {
      "application/vnd.jupyter.widget-view+json": {
       "model_id": "b757cedd5655441d943018061d81ad64",
       "version_major": 2,
       "version_minor": 0
      },
      "text/plain": [
       "Testing: |          | 0/? [00:00<?, ?it/s]"
      ]
     },
     "metadata": {},
     "output_type": "display_data"
    },
    {
     "name": "stdout",
     "output_type": "stream",
     "text": [
      "────────────────────────────────────────────────────────────────────────────────────────────────────────────────────────\n",
      "       Test metric             DataLoader 0\n",
      "────────────────────────────────────────────────────────────────────────────────────────────────────────────────────────\n",
      "           acc               0.822857141494751\n",
      "           f1               0.5263597965240479\n",
      "        precision           0.5598729848861694\n",
      "         recall              0.503220796585083\n",
      "────────────────────────────────────────────────────────────────────────────────────────────────────────────────────────\n"
     ]
    }
   ],
   "source": [
    "DATASETS = [\n",
    "    'Adiac',\n",
    "]\n",
    "\n",
    "MODELS_DIR = '../../../models/classification/univariate/'\n",
    "\n",
    "NUMBER_OF_EXPERIMENTS = 5\n",
    "NUMBER_OF_EPOCHS = 1000\n",
    "\n",
    "for dataset in DATASETS:\n",
    "    print(f'Loading dataset {dataset}...')\n",
    "    X_train, y_train, X_test, y_test = load_data(name=dataset, task='classification', split='full')\n",
    "    \n",
    "    print('Converting the dataset to torch.DataLoader...')\n",
    "    train_set, test_set = to_torch_dataset(X_train, y_train, X_test, y_test)\n",
    "    train_loader, test_loader = to_torch_loader(train_dataset=train_set, test_dataset=test_set)\n",
    "\n",
    "    num_classes = len(np.unique(y_train))\n",
    "\n",
    "    for experiment_number in range(NUMBER_OF_EXPERIMENTS):\n",
    "        model = DefConvNet(in_dim=1, num_classes=num_classes)\n",
    "        # print(model)\n",
    "        checkpoint = ModelCheckpoint(\n",
    "            monitor='train_loss',\n",
    "            dirpath=f'{MODELS_DIR}',\n",
    "            filename=f'deffcn-{dataset}-{experiment_number}',\n",
    "            save_top_k=1,\n",
    "            auto_insert_metric_name=False\n",
    "        )\n",
    "        \n",
    "        logger = CSVLogger('../../../logs/classification', name=f'deformable_fcn_ucr_subset_{dataset}')\n",
    "\n",
    "        trainer = Trainer(\n",
    "            max_epochs=NUMBER_OF_EPOCHS,\n",
    "            accelerator='gpu',\n",
    "            callbacks=[checkpoint],\n",
    "            logger=logger\n",
    "        )\n",
    "        \n",
    "        start_time = time.time()\n",
    "        trainer.fit(\n",
    "            model,\n",
    "            train_dataloaders=train_loader,\n",
    "            # val_dataloaders=test_loader,\n",
    "        )\n",
    "        end_time = time.time()\n",
    "\n",
    "        results = trainer.test(dataloaders=test_loader, ckpt_path='best')\n"
   ]
  },
  {
   "cell_type": "markdown",
   "metadata": {},
   "source": [
    "$$\n",
    "y(p) = \\sum^K_{k=1} w_k \\cdot x(p_0 + p_{n_k} + \\Delta p_{n_k}) \\cdot \\Delta m_k\n",
    "$$"
   ]
  }
 ],
 "metadata": {
  "kernelspec": {
   "display_name": "base",
   "language": "python",
   "name": "python3"
  },
  "language_info": {
   "codemirror_mode": {
    "name": "ipython",
    "version": 3
   },
   "file_extension": ".py",
   "mimetype": "text/x-python",
   "name": "python",
   "nbconvert_exporter": "python",
   "pygments_lexer": "ipython3",
   "version": "3.9.16"
  }
 },
 "nbformat": 4,
 "nbformat_minor": 2
}
