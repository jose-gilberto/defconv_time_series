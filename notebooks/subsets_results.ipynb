{
 "cells": [
  {
   "cell_type": "code",
   "execution_count": 2,
   "metadata": {},
   "outputs": [],
   "source": [
    "import pandas as pd\n",
    "import seaborn as sns\n",
    "import numpy as np\n",
    "import matplotlib.pyplot as plt"
   ]
  },
  {
   "cell_type": "code",
   "execution_count": 8,
   "metadata": {},
   "outputs": [
    {
     "data": {
      "text/plain": [
       "(60, 8)"
      ]
     },
     "execution_count": 8,
     "metadata": {},
     "output_type": "execute_result"
    }
   ],
   "source": [
    "fcn_subset = pd.read_csv('../results/fcn_subset.csv')\n",
    "deformable_fcn_subset = pd.read_csv('../results/deformable_fcn_subset.csv')\n",
    "inception_subset = pd.read_csv('../results/inceptiontime_subset.csv')\n",
    "\n",
    "subset_results = pd.concat([fcn_subset, deformable_fcn_subset, inception_subset])\n",
    "subset_results.shape"
   ]
  },
  {
   "cell_type": "code",
   "execution_count": 9,
   "metadata": {},
   "outputs": [
    {
     "data": {
      "text/html": [
       "<div>\n",
       "<style scoped>\n",
       "    .dataframe tbody tr th:only-of-type {\n",
       "        vertical-align: middle;\n",
       "    }\n",
       "\n",
       "    .dataframe tbody tr th {\n",
       "        vertical-align: top;\n",
       "    }\n",
       "\n",
       "    .dataframe thead th {\n",
       "        text-align: right;\n",
       "    }\n",
       "</style>\n",
       "<table border=\"1\" class=\"dataframe\">\n",
       "  <thead>\n",
       "    <tr style=\"text-align: right;\">\n",
       "      <th></th>\n",
       "      <th></th>\n",
       "      <th>exp</th>\n",
       "      <th>acc</th>\n",
       "      <th>f1</th>\n",
       "      <th>recall</th>\n",
       "      <th>precision</th>\n",
       "      <th>time</th>\n",
       "    </tr>\n",
       "    <tr>\n",
       "      <th>model</th>\n",
       "      <th>dataset</th>\n",
       "      <th></th>\n",
       "      <th></th>\n",
       "      <th></th>\n",
       "      <th></th>\n",
       "      <th></th>\n",
       "      <th></th>\n",
       "    </tr>\n",
       "  </thead>\n",
       "  <tbody>\n",
       "    <tr>\n",
       "      <th rowspan=\"3\" valign=\"top\">deffcn</th>\n",
       "      <th>ArrowHead</th>\n",
       "      <td>2.0</td>\n",
       "      <td>0.856000</td>\n",
       "      <td>0.842944</td>\n",
       "      <td>0.866081</td>\n",
       "      <td>0.855813</td>\n",
       "      <td>234.196315</td>\n",
       "    </tr>\n",
       "    <tr>\n",
       "      <th>BeetleFly</th>\n",
       "      <td>2.0</td>\n",
       "      <td>0.920000</td>\n",
       "      <td>0.915045</td>\n",
       "      <td>0.914667</td>\n",
       "      <td>0.920947</td>\n",
       "      <td>105.369863</td>\n",
       "    </tr>\n",
       "    <tr>\n",
       "      <th>Car</th>\n",
       "      <td>2.0</td>\n",
       "      <td>0.926667</td>\n",
       "      <td>0.917877</td>\n",
       "      <td>0.917444</td>\n",
       "      <td>0.931936</td>\n",
       "      <td>303.864023</td>\n",
       "    </tr>\n",
       "    <tr>\n",
       "      <th rowspan=\"6\" valign=\"top\">fcn</th>\n",
       "      <th>ArrowHead</th>\n",
       "      <td>2.0</td>\n",
       "      <td>0.846857</td>\n",
       "      <td>0.528839</td>\n",
       "      <td>0.506933</td>\n",
       "      <td>0.559356</td>\n",
       "      <td>98.015452</td>\n",
       "    </tr>\n",
       "    <tr>\n",
       "      <th>BeetleFly</th>\n",
       "      <td>2.0</td>\n",
       "      <td>0.860000</td>\n",
       "      <td>0.830857</td>\n",
       "      <td>0.817667</td>\n",
       "      <td>0.861697</td>\n",
       "      <td>37.957213</td>\n",
       "    </tr>\n",
       "    <tr>\n",
       "      <th>Car</th>\n",
       "      <td>2.0</td>\n",
       "      <td>0.913333</td>\n",
       "      <td>0.901345</td>\n",
       "      <td>0.904444</td>\n",
       "      <td>0.935714</td>\n",
       "      <td>80.696707</td>\n",
       "    </tr>\n",
       "    <tr>\n",
       "      <th>Earthquakes</th>\n",
       "      <td>2.0</td>\n",
       "      <td>0.728058</td>\n",
       "      <td>0.495635</td>\n",
       "      <td>0.529084</td>\n",
       "      <td>0.511042</td>\n",
       "      <td>312.237920</td>\n",
       "    </tr>\n",
       "    <tr>\n",
       "      <th>FaceAll</th>\n",
       "      <td>2.0</td>\n",
       "      <td>0.929586</td>\n",
       "      <td>0.799504</td>\n",
       "      <td>0.788200</td>\n",
       "      <td>0.817523</td>\n",
       "      <td>864.414298</td>\n",
       "    </tr>\n",
       "    <tr>\n",
       "      <th>FordB</th>\n",
       "      <td>2.0</td>\n",
       "      <td>0.772593</td>\n",
       "      <td>0.763331</td>\n",
       "      <td>0.770396</td>\n",
       "      <td>0.775211</td>\n",
       "      <td>2909.754243</td>\n",
       "    </tr>\n",
       "    <tr>\n",
       "      <th rowspan=\"3\" valign=\"top\">inceptiontime</th>\n",
       "      <th>ArrowHead</th>\n",
       "      <td>2.0</td>\n",
       "      <td>0.833143</td>\n",
       "      <td>0.832656</td>\n",
       "      <td>0.839978</td>\n",
       "      <td>0.832547</td>\n",
       "      <td>565.453082</td>\n",
       "    </tr>\n",
       "    <tr>\n",
       "      <th>BeetleFly</th>\n",
       "      <td>2.0</td>\n",
       "      <td>0.900000</td>\n",
       "      <td>0.898990</td>\n",
       "      <td>0.900000</td>\n",
       "      <td>0.916667</td>\n",
       "      <td>236.603868</td>\n",
       "    </tr>\n",
       "    <tr>\n",
       "      <th>Car</th>\n",
       "      <td>2.0</td>\n",
       "      <td>0.810000</td>\n",
       "      <td>0.806647</td>\n",
       "      <td>0.800405</td>\n",
       "      <td>0.820062</td>\n",
       "      <td>394.817131</td>\n",
       "    </tr>\n",
       "  </tbody>\n",
       "</table>\n",
       "</div>"
      ],
      "text/plain": [
       "                           exp       acc        f1    recall  precision  \\\n",
       "model         dataset                                                     \n",
       "deffcn        ArrowHead    2.0  0.856000  0.842944  0.866081   0.855813   \n",
       "              BeetleFly    2.0  0.920000  0.915045  0.914667   0.920947   \n",
       "              Car          2.0  0.926667  0.917877  0.917444   0.931936   \n",
       "fcn           ArrowHead    2.0  0.846857  0.528839  0.506933   0.559356   \n",
       "              BeetleFly    2.0  0.860000  0.830857  0.817667   0.861697   \n",
       "              Car          2.0  0.913333  0.901345  0.904444   0.935714   \n",
       "              Earthquakes  2.0  0.728058  0.495635  0.529084   0.511042   \n",
       "              FaceAll      2.0  0.929586  0.799504  0.788200   0.817523   \n",
       "              FordB        2.0  0.772593  0.763331  0.770396   0.775211   \n",
       "inceptiontime ArrowHead    2.0  0.833143  0.832656  0.839978   0.832547   \n",
       "              BeetleFly    2.0  0.900000  0.898990  0.900000   0.916667   \n",
       "              Car          2.0  0.810000  0.806647  0.800405   0.820062   \n",
       "\n",
       "                                  time  \n",
       "model         dataset                   \n",
       "deffcn        ArrowHead     234.196315  \n",
       "              BeetleFly     105.369863  \n",
       "              Car           303.864023  \n",
       "fcn           ArrowHead      98.015452  \n",
       "              BeetleFly      37.957213  \n",
       "              Car            80.696707  \n",
       "              Earthquakes   312.237920  \n",
       "              FaceAll       864.414298  \n",
       "              FordB        2909.754243  \n",
       "inceptiontime ArrowHead     565.453082  \n",
       "              BeetleFly     236.603868  \n",
       "              Car           394.817131  "
      ]
     },
     "execution_count": 9,
     "metadata": {},
     "output_type": "execute_result"
    }
   ],
   "source": [
    "grouped_subset_results = subset_results.groupby(['model', 'dataset']).mean()\n",
    "grouped_subset_results"
   ]
  },
  {
   "cell_type": "code",
   "execution_count": 12,
   "metadata": {},
   "outputs": [
    {
     "data": {
      "text/plain": [
       "(0.0, 1.2)"
      ]
     },
     "execution_count": 12,
     "metadata": {},
     "output_type": "execute_result"
    },
    {
     "data": {
      "image/png": "[encoded data removed]",
      "text/plain": [
       "<Figure size 1000x400 with 1 Axes>"
      ]
     },
     "metadata": {},
     "output_type": "display_data"
    }
   ],
   "source": [
    "plt.figure(figsize=(10, 4))\n",
    "sns.barplot(data=grouped_subset_results, x='f1', y='dataset', hue='model')\n",
    "plt.xlim([0, 1.2])"
   ]
  },
  {
   "cell_type": "code",
   "execution_count": 28,
   "metadata": {},
   "outputs": [
    {
     "data": {
      "text/plain": [
       "(0.0, 1.2)"
      ]
     },
     "execution_count": 28,
     "metadata": {},
     "output_type": "execute_result"
    },
    {
     "data": {
      "image/png": "[encoded data removed]",
      "text/plain": [
       "<Figure size 1000x400 with 1 Axes>"
      ]
     },
     "metadata": {},
     "output_type": "display_data"
    }
   ],
   "source": [
    "plt.figure(figsize=(10, 4))\n",
    "sns.barplot(data=grouped_subset_results, x='acc', y='dataset', hue='model')\n",
    "plt.xlim([0, 1.2])"
   ]
  }
 ],
 "metadata": {
  "kernelspec": {
   "display_name": "defconv",
   "language": "python",
   "name": "python3"
  },
  "language_info": {
   "codemirror_mode": {
    "name": "ipython",
    "version": 3
   },
   "file_extension": ".py",
   "mimetype": "text/x-python",
   "name": "python",
   "nbconvert_exporter": "python",
   "pygments_lexer": "ipython3",
   "version": "3.9.18"
  }
 },
 "nbformat": 4,
 "nbformat_minor": 2
}
