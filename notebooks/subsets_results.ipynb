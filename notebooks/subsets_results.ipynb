{
 "cells": [
  {
   "cell_type": "code",
   "execution_count": 1,
   "metadata": {},
   "outputs": [],
   "source": [
    "import pandas as pd\n",
    "import seaborn as sns\n",
    "import numpy as np\n",
    "import matplotlib.pyplot as plt"
   ]
  },
  {
   "cell_type": "code",
   "execution_count": 2,
   "metadata": {},
   "outputs": [
    {
     "data": {
      "text/plain": [
       "(75, 8)"
      ]
     },
     "execution_count": 2,
     "metadata": {},
     "output_type": "execute_result"
    }
   ],
   "source": [
    "fcn_subset = pd.read_csv('../results/fcn_subset.csv')\n",
    "deformable_fcn_subset = pd.read_csv('../results/deformable_fcn_subset.csv')\n",
    "inception_subset = pd.read_csv('../results/inceptiontime_subset.csv')\n",
    "\n",
    "subset_results = pd.concat([fcn_subset, deformable_fcn_subset, inception_subset])\n",
    "subset_results.shape"
   ]
  },
  {
   "cell_type": "code",
   "execution_count": 4,
   "metadata": {},
   "outputs": [
    {
     "data": {
      "text/html": [
       "<div>\n",
       "<style scoped>\n",
       "    .dataframe tbody tr th:only-of-type {\n",
       "        vertical-align: middle;\n",
       "    }\n",
       "\n",
       "    .dataframe tbody tr th {\n",
       "        vertical-align: top;\n",
       "    }\n",
       "\n",
       "    .dataframe thead th {\n",
       "        text-align: right;\n",
       "    }\n",
       "</style>\n",
       "<table border=\"1\" class=\"dataframe\">\n",
       "  <thead>\n",
       "    <tr style=\"text-align: right;\">\n",
       "      <th></th>\n",
       "      <th>model</th>\n",
       "      <th>dataset</th>\n",
       "      <th>exp</th>\n",
       "      <th>acc</th>\n",
       "      <th>f1</th>\n",
       "      <th>recall</th>\n",
       "      <th>precision</th>\n",
       "      <th>time</th>\n",
       "    </tr>\n",
       "  </thead>\n",
       "  <tbody>\n",
       "    <tr>\n",
       "      <th>0</th>\n",
       "      <td>deffcn</td>\n",
       "      <td>ArrowHead</td>\n",
       "      <td>2.0</td>\n",
       "      <td>0.856000</td>\n",
       "      <td>0.842944</td>\n",
       "      <td>0.866081</td>\n",
       "      <td>0.855813</td>\n",
       "      <td>234.196315</td>\n",
       "    </tr>\n",
       "    <tr>\n",
       "      <th>1</th>\n",
       "      <td>deffcn</td>\n",
       "      <td>BeetleFly</td>\n",
       "      <td>2.0</td>\n",
       "      <td>0.920000</td>\n",
       "      <td>0.915045</td>\n",
       "      <td>0.914667</td>\n",
       "      <td>0.920947</td>\n",
       "      <td>105.369863</td>\n",
       "    </tr>\n",
       "    <tr>\n",
       "      <th>2</th>\n",
       "      <td>deffcn</td>\n",
       "      <td>Car</td>\n",
       "      <td>2.0</td>\n",
       "      <td>0.926667</td>\n",
       "      <td>0.917877</td>\n",
       "      <td>0.917444</td>\n",
       "      <td>0.931936</td>\n",
       "      <td>303.864023</td>\n",
       "    </tr>\n",
       "    <tr>\n",
       "      <th>3</th>\n",
       "      <td>fcn</td>\n",
       "      <td>ArrowHead</td>\n",
       "      <td>2.0</td>\n",
       "      <td>0.846857</td>\n",
       "      <td>0.528839</td>\n",
       "      <td>0.506933</td>\n",
       "      <td>0.559356</td>\n",
       "      <td>98.015452</td>\n",
       "    </tr>\n",
       "    <tr>\n",
       "      <th>4</th>\n",
       "      <td>fcn</td>\n",
       "      <td>BeetleFly</td>\n",
       "      <td>2.0</td>\n",
       "      <td>0.860000</td>\n",
       "      <td>0.830857</td>\n",
       "      <td>0.817667</td>\n",
       "      <td>0.861697</td>\n",
       "      <td>37.957213</td>\n",
       "    </tr>\n",
       "    <tr>\n",
       "      <th>5</th>\n",
       "      <td>fcn</td>\n",
       "      <td>Car</td>\n",
       "      <td>2.0</td>\n",
       "      <td>0.913333</td>\n",
       "      <td>0.901345</td>\n",
       "      <td>0.904444</td>\n",
       "      <td>0.935714</td>\n",
       "      <td>80.696707</td>\n",
       "    </tr>\n",
       "    <tr>\n",
       "      <th>6</th>\n",
       "      <td>fcn</td>\n",
       "      <td>Earthquakes</td>\n",
       "      <td>2.0</td>\n",
       "      <td>0.728058</td>\n",
       "      <td>0.495635</td>\n",
       "      <td>0.529084</td>\n",
       "      <td>0.511042</td>\n",
       "      <td>312.237920</td>\n",
       "    </tr>\n",
       "    <tr>\n",
       "      <th>7</th>\n",
       "      <td>fcn</td>\n",
       "      <td>FaceAll</td>\n",
       "      <td>2.0</td>\n",
       "      <td>0.929586</td>\n",
       "      <td>0.799504</td>\n",
       "      <td>0.788200</td>\n",
       "      <td>0.817523</td>\n",
       "      <td>864.414298</td>\n",
       "    </tr>\n",
       "    <tr>\n",
       "      <th>8</th>\n",
       "      <td>fcn</td>\n",
       "      <td>FordB</td>\n",
       "      <td>2.0</td>\n",
       "      <td>0.772593</td>\n",
       "      <td>0.763331</td>\n",
       "      <td>0.770396</td>\n",
       "      <td>0.775211</td>\n",
       "      <td>2909.754243</td>\n",
       "    </tr>\n",
       "    <tr>\n",
       "      <th>9</th>\n",
       "      <td>fcn</td>\n",
       "      <td>Ham</td>\n",
       "      <td>2.0</td>\n",
       "      <td>0.718095</td>\n",
       "      <td>0.478918</td>\n",
       "      <td>0.428352</td>\n",
       "      <td>0.576571</td>\n",
       "      <td>128.081380</td>\n",
       "    </tr>\n",
       "    <tr>\n",
       "      <th>10</th>\n",
       "      <td>fcn</td>\n",
       "      <td>InlineSkate</td>\n",
       "      <td>2.0</td>\n",
       "      <td>0.420000</td>\n",
       "      <td>0.365245</td>\n",
       "      <td>0.419363</td>\n",
       "      <td>0.392460</td>\n",
       "      <td>522.346901</td>\n",
       "    </tr>\n",
       "    <tr>\n",
       "      <th>11</th>\n",
       "      <td>fcn</td>\n",
       "      <td>InsectWingbeatSound</td>\n",
       "      <td>2.0</td>\n",
       "      <td>0.392626</td>\n",
       "      <td>0.311487</td>\n",
       "      <td>0.339332</td>\n",
       "      <td>0.335920</td>\n",
       "      <td>937.370673</td>\n",
       "    </tr>\n",
       "    <tr>\n",
       "      <th>12</th>\n",
       "      <td>inceptiontime</td>\n",
       "      <td>ArrowHead</td>\n",
       "      <td>2.0</td>\n",
       "      <td>0.833143</td>\n",
       "      <td>0.832656</td>\n",
       "      <td>0.839978</td>\n",
       "      <td>0.832547</td>\n",
       "      <td>565.453082</td>\n",
       "    </tr>\n",
       "    <tr>\n",
       "      <th>13</th>\n",
       "      <td>inceptiontime</td>\n",
       "      <td>BeetleFly</td>\n",
       "      <td>2.0</td>\n",
       "      <td>0.900000</td>\n",
       "      <td>0.898990</td>\n",
       "      <td>0.900000</td>\n",
       "      <td>0.916667</td>\n",
       "      <td>236.603868</td>\n",
       "    </tr>\n",
       "    <tr>\n",
       "      <th>14</th>\n",
       "      <td>inceptiontime</td>\n",
       "      <td>Car</td>\n",
       "      <td>2.0</td>\n",
       "      <td>0.810000</td>\n",
       "      <td>0.806647</td>\n",
       "      <td>0.800405</td>\n",
       "      <td>0.820062</td>\n",
       "      <td>394.817131</td>\n",
       "    </tr>\n",
       "  </tbody>\n",
       "</table>\n",
       "</div>"
      ],
      "text/plain": [
       "            model              dataset  exp       acc        f1    recall  \\\n",
       "0          deffcn            ArrowHead  2.0  0.856000  0.842944  0.866081   \n",
       "1          deffcn            BeetleFly  2.0  0.920000  0.915045  0.914667   \n",
       "2          deffcn                  Car  2.0  0.926667  0.917877  0.917444   \n",
       "3             fcn            ArrowHead  2.0  0.846857  0.528839  0.506933   \n",
       "4             fcn            BeetleFly  2.0  0.860000  0.830857  0.817667   \n",
       "5             fcn                  Car  2.0  0.913333  0.901345  0.904444   \n",
       "6             fcn          Earthquakes  2.0  0.728058  0.495635  0.529084   \n",
       "7             fcn              FaceAll  2.0  0.929586  0.799504  0.788200   \n",
       "8             fcn                FordB  2.0  0.772593  0.763331  0.770396   \n",
       "9             fcn                  Ham  2.0  0.718095  0.478918  0.428352   \n",
       "10            fcn          InlineSkate  2.0  0.420000  0.365245  0.419363   \n",
       "11            fcn  InsectWingbeatSound  2.0  0.392626  0.311487  0.339332   \n",
       "12  inceptiontime            ArrowHead  2.0  0.833143  0.832656  0.839978   \n",
       "13  inceptiontime            BeetleFly  2.0  0.900000  0.898990  0.900000   \n",
       "14  inceptiontime                  Car  2.0  0.810000  0.806647  0.800405   \n",
       "\n",
       "    precision         time  \n",
       "0    0.855813   234.196315  \n",
       "1    0.920947   105.369863  \n",
       "2    0.931936   303.864023  \n",
       "3    0.559356    98.015452  \n",
       "4    0.861697    37.957213  \n",
       "5    0.935714    80.696707  \n",
       "6    0.511042   312.237920  \n",
       "7    0.817523   864.414298  \n",
       "8    0.775211  2909.754243  \n",
       "9    0.576571   128.081380  \n",
       "10   0.392460   522.346901  \n",
       "11   0.335920   937.370673  \n",
       "12   0.832547   565.453082  \n",
       "13   0.916667   236.603868  \n",
       "14   0.820062   394.817131  "
      ]
     },
     "execution_count": 4,
     "metadata": {},
     "output_type": "execute_result"
    }
   ],
   "source": [
    "grouped_subset_results = subset_results.groupby(['model', 'dataset']).mean().reset_index()\n",
    "grouped_subset_results"
   ]
  },
  {
   "cell_type": "code",
   "execution_count": 14,
   "metadata": {},
   "outputs": [
    {
     "ename": "AttributeError",
     "evalue": "'NoneType' object has no attribute 'get_bbox'",
     "output_type": "error",
     "traceback": [
      "\u001b[0;31m---------------------------------------------------------------------------\u001b[0m",
      "\u001b[0;31mAttributeError\u001b[0m                            Traceback (most recent call last)",
      "\u001b[1;32m/home/gbarbosa/Projects/defconvts/notebooks/subsets_results.ipynb Cell 4\u001b[0m line \u001b[0;36m5\n\u001b[1;32m      <a href='vscode-notebook-cell:/home/gbarbosa/Projects/defconvts/notebooks/subsets_results.ipynb#W3sZmlsZQ%3D%3D?line=0'>1</a>\u001b[0m plt\u001b[39m.\u001b[39mfigure(figsize\u001b[39m=\u001b[39m(\u001b[39m10\u001b[39m, \u001b[39m10\u001b[39m))\n\u001b[1;32m      <a href='vscode-notebook-cell:/home/gbarbosa/Projects/defconvts/notebooks/subsets_results.ipynb#W3sZmlsZQ%3D%3D?line=2'>3</a>\u001b[0m ax \u001b[39m=\u001b[39m sns\u001b[39m.\u001b[39mbarplot(data\u001b[39m=\u001b[39mgrouped_subset_results, x\u001b[39m=\u001b[39m\u001b[39m'\u001b[39m\u001b[39mf1\u001b[39m\u001b[39m'\u001b[39m, y\u001b[39m=\u001b[39m\u001b[39m'\u001b[39m\u001b[39mdataset\u001b[39m\u001b[39m'\u001b[39m, hue\u001b[39m=\u001b[39m\u001b[39m'\u001b[39m\u001b[39mmodel\u001b[39m\u001b[39m'\u001b[39m)\n\u001b[0;32m----> <a href='vscode-notebook-cell:/home/gbarbosa/Projects/defconvts/notebooks/subsets_results.ipynb#W3sZmlsZQ%3D%3D?line=4'>5</a>\u001b[0m ax\u001b[39m.\u001b[39;49mbar_label(ax\u001b[39m.\u001b[39;49mcontainers[\u001b[39m0\u001b[39;49m], labels\u001b[39m=\u001b[39;49m\u001b[39mround\u001b[39;49m(grouped_subset_results[\u001b[39m'\u001b[39;49m\u001b[39mf1\u001b[39;49m\u001b[39m'\u001b[39;49m], \u001b[39m2\u001b[39;49m))\n\u001b[1;32m      <a href='vscode-notebook-cell:/home/gbarbosa/Projects/defconvts/notebooks/subsets_results.ipynb#W3sZmlsZQ%3D%3D?line=6'>7</a>\u001b[0m plt\u001b[39m.\u001b[39mxlim([\u001b[39m0\u001b[39m, \u001b[39m1.2\u001b[39m])\n\u001b[1;32m      <a href='vscode-notebook-cell:/home/gbarbosa/Projects/defconvts/notebooks/subsets_results.ipynb#W3sZmlsZQ%3D%3D?line=7'>8</a>\u001b[0m plt\u001b[39m.\u001b[39mtight_layout()\n",
      "File \u001b[0;32m~/anaconda3/envs/defconv/lib/python3.9/site-packages/matplotlib/axes/_axes.py:2793\u001b[0m, in \u001b[0;36mAxes.bar_label\u001b[0;34m(self, container, labels, fmt, label_type, padding, **kwargs)\u001b[0m\n\u001b[1;32m   2788\u001b[0m annotations \u001b[39m=\u001b[39m []\n\u001b[1;32m   2790\u001b[0m \u001b[39mfor\u001b[39;00m bar, err, dat, lbl \u001b[39min\u001b[39;00m itertools\u001b[39m.\u001b[39mzip_longest(\n\u001b[1;32m   2791\u001b[0m         bars, errs, datavalues, labels\n\u001b[1;32m   2792\u001b[0m ):\n\u001b[0;32m-> 2793\u001b[0m     (x0, y0), (x1, y1) \u001b[39m=\u001b[39m bar\u001b[39m.\u001b[39;49mget_bbox()\u001b[39m.\u001b[39mget_points()\n\u001b[1;32m   2794\u001b[0m     xc, yc \u001b[39m=\u001b[39m (x0 \u001b[39m+\u001b[39m x1) \u001b[39m/\u001b[39m \u001b[39m2\u001b[39m, (y0 \u001b[39m+\u001b[39m y1) \u001b[39m/\u001b[39m \u001b[39m2\u001b[39m\n\u001b[1;32m   2796\u001b[0m     \u001b[39mif\u001b[39;00m orientation \u001b[39m==\u001b[39m \u001b[39m\"\u001b[39m\u001b[39mvertical\u001b[39m\u001b[39m\"\u001b[39m:\n",
      "\u001b[0;31mAttributeError\u001b[0m: 'NoneType' object has no attribute 'get_bbox'"
     ]
    },
    {
     "data": {
      "image/png": "[encoded data removed]",
      "text/plain": [
       "<Figure size 1000x1000 with 1 Axes>"
      ]
     },
     "metadata": {},
     "output_type": "display_data"
    }
   ],
   "source": [
    "plt.figure(figsize=(10, 10))\n",
    "\n",
    "ax = sns.barplot(data=grouped_subset_results, x='f1', y='dataset', hue='model')\n",
    "\n",
    "try:\n",
    "    ax.bar_label(ax.containers[0], labels=round(grouped_subset_results['f1'], 2))\n",
    "except:\n",
    "    pass\n",
    "\n",
    "plt.xlim([0, 1.2])\n",
    "plt.tight_layout()"
   ]
  },
  {
   "cell_type": "code",
   "execution_count": 28,
   "metadata": {},
   "outputs": [
    {
     "data": {
      "text/plain": [
       "(0.0, 1.2)"
      ]
     },
     "execution_count": 28,
     "metadata": {},
     "output_type": "execute_result"
    },
    {
     "data": {
      "image/png": "[encoded data removed]",
      "text/plain": [
       "<Figure size 1000x400 with 1 Axes>"
      ]
     },
     "metadata": {},
     "output_type": "display_data"
    }
   ],
   "source": [
    "plt.figure(figsize=(10, 4))\n",
    "sns.barplot(data=grouped_subset_results, x='acc', y='dataset', hue='model')\n",
    "plt.xlim([0, 1.2])"
   ]
  }
 ],
 "metadata": {
  "kernelspec": {
   "display_name": "defconv",
   "language": "python",
   "name": "python3"
  },
  "language_info": {
   "codemirror_mode": {
    "name": "ipython",
    "version": 3
   },
   "file_extension": ".py",
   "mimetype": "text/x-python",
   "name": "python",
   "nbconvert_exporter": "python",
   "pygments_lexer": "ipython3",
   "version": "3.9.18"
  }
 },
 "nbformat": 4,
 "nbformat_minor": 2
}
